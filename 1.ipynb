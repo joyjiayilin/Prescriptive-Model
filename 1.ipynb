{
 "cells": [
  {
   "cell_type": "markdown",
   "metadata": {},
   "source": [
    "# 1 Table 1\n",
    "\n",
    "\n",
    "## Question 1.\n"
   ]
  },
  {
   "cell_type": "code",
   "execution_count": 4,
   "metadata": {
    "scrolled": true
   },
   "outputs": [
    {
     "name": "stdout",
     "output_type": "stream",
     "text": [
      "                                OLS Regression Results                                \n",
      "======================================================================================\n",
      "Dep. Variable:     months_since_last_donation   R-squared:                       0.000\n",
      "Model:                                    OLS   Adj. R-squared:                 -0.000\n",
      "Method:                         Least Squares   F-statistic:                   0.01428\n",
      "Date:                        Thu, 25 Jan 2024   Prob (F-statistic):              0.905\n",
      "Time:                                21:47:52   Log-Likelihood:            -1.9585e+05\n",
      "No. Observations:                       50082   AIC:                         3.917e+05\n",
      "Df Residuals:                           50080   BIC:                         3.917e+05\n",
      "Df Model:                                   1                                         \n",
      "Covariance Type:                    nonrobust                                         \n",
      "==============================================================================\n",
      "                 coef    std err          t      P>|t|      [0.025      0.975]\n",
      "------------------------------------------------------------------------------\n",
      "Intercept     12.9981      0.094    138.979      0.000      12.815      13.181\n",
      "treatment      0.0137      0.115      0.119      0.905      -0.211       0.238\n",
      "==============================================================================\n",
      "Omnibus:                     8031.352   Durbin-Watson:                   1.714\n",
      "Prob(Omnibus):                  0.000   Jarque-Bera (JB):            12471.135\n",
      "Skew:                           1.163   Prob(JB):                         0.00\n",
      "Kurtosis:                       3.751   Cond. No.                         3.23\n",
      "==============================================================================\n",
      "\n",
      "Notes:\n",
      "[1] Standard Errors assume that the covariance matrix of the errors is correctly specified.\n"
     ]
    }
   ],
   "source": [
    "import pandas as pd\n",
    "import statsmodels.api as sm\n",
    "import statsmodels.formula.api as smf\n",
    "\n",
    "df = pd.read_csv(\"charitable_giving.csv\")\n",
    "\n",
    "model = smf.ols(formula = 'months_since_last_donation ~ treatment',\n",
    "               data = df).fit()\n",
    "print(model.summary())"
   ]
  },
  {
   "cell_type": "markdown",
   "metadata": {},
   "source": [
    "The average “Number of months since last donation” is not significantly different between treatment and control, indicated by the high p-value at 0.905. \n",
    "\n",
    "The intercept 12.9981 indicates the response rate in the control group, on average.\n",
    "\n",
    "The treatment regression coefficients, 0.0137, indicates the variation in the response rate between the treatment group and the control group.\n",
    "\n",
    "The regression-based means consider the association between the treatment variable and the dependent variable, offering coefficient estimates that reveal the direction and magnitude of the treatment's impact.\n",
    "\n",
    "The group-specific means reported in Table 1 of the paper offers a straightforward comparison of the means between the treatment and control groups."
   ]
  },
  {
   "cell_type": "markdown",
   "metadata": {},
   "source": [
    "## Question 2."
   ]
  },
  {
   "cell_type": "markdown",
   "metadata": {},
   "source": [
    "The difference in “Number of month since last donation” between treatment and control is not statistically significant at the 95% confidence level, because the p-value is larger than 0.05. \n",
    "\n",
    "This is the result I expected because treatment and control groups are supposed to be alike."
   ]
  },
  {
   "cell_type": "markdown",
   "metadata": {},
   "source": [
    "## Question 3."
   ]
  },
  {
   "cell_type": "markdown",
   "metadata": {},
   "source": [
    "The take-away from Table 1 in the paper is that the allocation to treatment and control groups was independent of observable demographic information and previous donation history, which indicates randomization."
   ]
  },
  {
   "cell_type": "markdown",
   "metadata": {},
   "source": [
    "# 2 Response rate regressions"
   ]
  },
  {
   "cell_type": "markdown",
   "metadata": {},
   "source": [
    "## Question 1."
   ]
  },
  {
   "cell_type": "code",
   "execution_count": 7,
   "metadata": {},
   "outputs": [
    {
     "name": "stdout",
     "output_type": "stream",
     "text": [
      "                            OLS Regression Results                            \n",
      "==============================================================================\n",
      "Dep. Variable:         donation_dummy   R-squared:                       0.000\n",
      "Model:                            OLS   Adj. R-squared:                  0.000\n",
      "Method:                 Least Squares   F-statistic:                     9.618\n",
      "Date:                Thu, 25 Jan 2024   Prob (F-statistic):            0.00193\n",
      "Time:                        21:59:40   Log-Likelihood:                 26630.\n",
      "No. Observations:               50083   AIC:                        -5.326e+04\n",
      "Df Residuals:                   50081   BIC:                        -5.324e+04\n",
      "Df Model:                           1                                         \n",
      "Covariance Type:            nonrobust                                         \n",
      "==============================================================================\n",
      "                 coef    std err          t      P>|t|      [0.025      0.975]\n",
      "------------------------------------------------------------------------------\n",
      "Intercept      0.0179      0.001     16.225      0.000       0.016       0.020\n",
      "treatment      0.0042      0.001      3.101      0.002       0.002       0.007\n",
      "==============================================================================\n",
      "Omnibus:                    59814.280   Durbin-Watson:                   1.997\n",
      "Prob(Omnibus):                  0.000   Jarque-Bera (JB):          4317152.727\n",
      "Skew:                           6.740   Prob(JB):                         0.00\n",
      "Kurtosis:                      46.440   Cond. No.                         3.23\n",
      "==============================================================================\n",
      "\n",
      "Notes:\n",
      "[1] Standard Errors assume that the covariance matrix of the errors is correctly specified.\n"
     ]
    }
   ],
   "source": [
    "import pandas as pd\n",
    "import statsmodels.api as sm\n",
    "import statsmodels.formula.api as smf\n",
    "\n",
    "df = pd.read_csv(\"charitable_giving.csv\")\n",
    "\n",
    "model = smf.ols(formula = 'donation_dummy ~ treatment',\n",
    "               data = df).fit()\n",
    "print(model.summary())"
   ]
  },
  {
   "cell_type": "markdown",
   "metadata": {},
   "source": [
    "The intercept coefficient, 0.0179, indicates the response rate in the control group, on average.\n",
    "\n",
    "The treatment coefficient, 0.0042, indicates the variation in the response rate between the treatment group and the control group.\n",
    "\n",
    "Compare to the results presented in the first row of Table 2a, 0.018 and 0.022, each is the intercept, the average response rates in the treatment and control groups."
   ]
  },
  {
   "cell_type": "markdown",
   "metadata": {},
   "source": [
    "## Question 2."
   ]
  },
  {
   "cell_type": "code",
   "execution_count": 9,
   "metadata": {},
   "outputs": [
    {
     "name": "stdout",
     "output_type": "stream",
     "text": [
      "                            OLS Regression Results                            \n",
      "==============================================================================\n",
      "Dep. Variable:         donation_dummy   R-squared:                       0.000\n",
      "Model:                            OLS   Adj. R-squared:                  0.000\n",
      "Method:                 Least Squares   F-statistic:                     3.665\n",
      "Date:                Thu, 25 Jan 2024   Prob (F-statistic):             0.0118\n",
      "Time:                        22:17:08   Log-Likelihood:                 26630.\n",
      "No. Observations:               50083   AIC:                        -5.325e+04\n",
      "Df Residuals:                   50079   BIC:                        -5.322e+04\n",
      "Df Model:                           3                                         \n",
      "Covariance Type:            nonrobust                                         \n",
      "==============================================================================\n",
      "                 coef    std err          t      P>|t|      [0.025      0.975]\n",
      "------------------------------------------------------------------------------\n",
      "Intercept      0.0179      0.001     16.225      0.000       0.016       0.020\n",
      "ratio1         0.0029      0.002      1.661      0.097      -0.001       0.006\n",
      "ratio2         0.0048      0.002      2.744      0.006       0.001       0.008\n",
      "ratio3         0.0049      0.002      2.802      0.005       0.001       0.008\n",
      "==============================================================================\n",
      "Omnibus:                    59812.754   Durbin-Watson:                   1.997\n",
      "Prob(Omnibus):                  0.000   Jarque-Bera (JB):          4316693.217\n",
      "Skew:                           6.740   Prob(JB):                         0.00\n",
      "Kurtosis:                      46.438   Cond. No.                         4.26\n",
      "==============================================================================\n",
      "\n",
      "Notes:\n",
      "[1] Standard Errors assume that the covariance matrix of the errors is correctly specified.\n"
     ]
    }
   ],
   "source": [
    "import pandas as pd\n",
    "import statsmodels.api as sm\n",
    "import statsmodels.formula.api as smf\n",
    "\n",
    "df = pd.read_csv(\"charitable_giving.csv\")\n",
    "\n",
    "model = smf.ols(formula = 'donation_dummy ~ ratio1 + ratio2 + ratio3',\n",
    "               data = df).fit()\n",
    "print(model.summary())"
   ]
  },
  {
   "cell_type": "markdown",
   "metadata": {},
   "source": [
    "The intercept coefficient, 0.0179, indicates the response rate in the control group, on average.\n",
    "\n",
    "The ratio1 coefficient, 0.0029, indicates the variation in the response rate between the ratio1 group and the control group.\n",
    "\n",
    "The ratio2 coefficient, 0.0048, indicates the variation in the response rate between the ratio2 group and the control group.\n",
    "\n",
    "The ratio3 coefficient, 0.0049, indicates the variation in the response rate between the ratio3 group and the control group."
   ]
  },
  {
   "cell_type": "markdown",
   "metadata": {},
   "source": [
    "## Question 3."
   ]
  },
  {
   "cell_type": "code",
   "execution_count": 11,
   "metadata": {},
   "outputs": [
    {
     "data": {
      "text/plain": [
       "0.0018842510217149415"
      ]
     },
     "execution_count": 11,
     "metadata": {},
     "output_type": "execute_result"
    }
   ],
   "source": [
    "import pandas as pd\n",
    "import statsmodels.api as sm\n",
    "import statsmodels.formula.api as smf\n",
    "\n",
    "df = pd.read_csv(\"charitable_giving.csv\")\n",
    "\n",
    "model = smf.ols(formula = 'donation_dummy ~ ratio1 + ratio2 + ratio3',\n",
    "               data = df).fit()\n",
    "\n",
    "ratio1_coef = model.params['ratio1']\n",
    "ratio2_coef = model.params['ratio2']\n",
    "diff = ratio2_coef - ratio1_coef\n",
    "diff"
   ]
  },
  {
   "cell_type": "markdown",
   "metadata": {},
   "source": [
    "The difference in impacts on response rate between the 1:1 and 2:1 match ratios is 0.0018842510217149415."
   ]
  },
  {
   "cell_type": "markdown",
   "metadata": {},
   "source": [
    "## Question 4."
   ]
  },
  {
   "cell_type": "markdown",
   "metadata": {},
   "source": [
    "Based on the regressions I ran and more generally the results in Table 2a, I conclude that using the 2:1 match ratio is not much more effective than 1:1, although matching increases donations."
   ]
  },
  {
   "cell_type": "markdown",
   "metadata": {},
   "source": [
    "# 3 Response rates in red/blue states"
   ]
  },
  {
   "cell_type": "markdown",
   "metadata": {},
   "source": [
    "## Question 1."
   ]
  },
  {
   "cell_type": "code",
   "execution_count": 21,
   "metadata": {},
   "outputs": [
    {
     "name": "stdout",
     "output_type": "stream",
     "text": [
      "                            OLS Regression Results                            \n",
      "==============================================================================\n",
      "Dep. Variable:         donation_dummy   R-squared:                       0.001\n",
      "Model:                            OLS   Adj. R-squared:                  0.001\n",
      "Method:                 Least Squares   F-statistic:                     17.24\n",
      "Date:                Thu, 25 Jan 2024   Prob (F-statistic):           3.31e-05\n",
      "Time:                        22:40:26   Log-Likelihood:                 10839.\n",
      "No. Observations:               20242   AIC:                        -2.167e+04\n",
      "Df Residuals:                   20240   BIC:                        -2.166e+04\n",
      "Df Model:                           1                                         \n",
      "Covariance Type:            nonrobust                                         \n",
      "==============================================================================\n",
      "                 coef    std err          t      P>|t|      [0.025      0.975]\n",
      "------------------------------------------------------------------------------\n",
      "Intercept      0.0146      0.002      8.398      0.000       0.011       0.018\n",
      "treatment      0.0088      0.002      4.152      0.000       0.005       0.013\n",
      "==============================================================================\n",
      "Omnibus:                    24251.343   Durbin-Watson:                   2.002\n",
      "Prob(Omnibus):                  0.000   Jarque-Bera (JB):          1766349.071\n",
      "Skew:                           6.759   Prob(JB):                         0.00\n",
      "Kurtosis:                      46.721   Cond. No.                         3.25\n",
      "==============================================================================\n",
      "\n",
      "Notes:\n",
      "[1] Standard Errors assume that the covariance matrix of the errors is correctly specified.\n"
     ]
    }
   ],
   "source": [
    "import pandas as pd\n",
    "import statsmodels.api as sm\n",
    "import statsmodels.formula.api as smf\n",
    "\n",
    "df = pd.read_csv(\"charitable_giving.csv\")\n",
    "df_red = df[df['red_state_dummy'] == 1]\n",
    "\n",
    "model_red = smf.ols(formula = 'donation_dummy ~ treatment',\n",
    "               data = df_red).fit()\n",
    "print(model_red.summary())"
   ]
  },
  {
   "cell_type": "markdown",
   "metadata": {},
   "source": [
    "The intercept coefficient, 0.0146, indicates the response rate in the control group, on average, in red states.\n",
    "\n",
    "The treatment coefficient, 0.0088, indicates the variation in the response rate between the treatment group and the control group in red states."
   ]
  },
  {
   "cell_type": "code",
   "execution_count": 26,
   "metadata": {},
   "outputs": [
    {
     "name": "stdout",
     "output_type": "stream",
     "text": [
      "                            OLS Regression Results                            \n",
      "==============================================================================\n",
      "Dep. Variable:         donation_dummy   R-squared:                       0.000\n",
      "Model:                            OLS   Adj. R-squared:                 -0.000\n",
      "Method:                 Least Squares   F-statistic:                    0.3567\n",
      "Date:                Thu, 25 Jan 2024   Prob (F-statistic):              0.550\n",
      "Time:                        22:44:57   Log-Likelihood:                 15783.\n",
      "No. Observations:               29806   AIC:                        -3.156e+04\n",
      "Df Residuals:                   29804   BIC:                        -3.155e+04\n",
      "Df Model:                           1                                         \n",
      "Covariance Type:            nonrobust                                         \n",
      "==============================================================================\n",
      "                 coef    std err          t      P>|t|      [0.025      0.975]\n",
      "------------------------------------------------------------------------------\n",
      "Intercept      0.0200      0.001     14.085      0.000       0.017       0.023\n",
      "treatment      0.0010      0.002      0.597      0.550      -0.002       0.004\n",
      "==============================================================================\n",
      "Omnibus:                    35568.600   Durbin-Watson:                   1.996\n",
      "Prob(Omnibus):                  0.000   Jarque-Bera (JB):          2547856.644\n",
      "Skew:                           6.727   Prob(JB):                         0.00\n",
      "Kurtosis:                      46.250   Cond. No.                         3.21\n",
      "==============================================================================\n",
      "\n",
      "Notes:\n",
      "[1] Standard Errors assume that the covariance matrix of the errors is correctly specified.\n"
     ]
    }
   ],
   "source": [
    "import pandas as pd\n",
    "import statsmodels.api as sm\n",
    "import statsmodels.formula.api as smf\n",
    "\n",
    "df = pd.read_csv(\"charitable_giving.csv\")\n",
    "df_blue = df[df['red_state_dummy'] == 0]\n",
    "\n",
    "model_blue = smf.ols(formula = 'donation_dummy ~ treatment',\n",
    "               data = df_blue).fit()\n",
    "print(model_blue.summary())"
   ]
  },
  {
   "cell_type": "markdown",
   "metadata": {},
   "source": [
    "The intercept coefficient, 0.0200, indicates the response rate in the control group, on average, in blue states.\n",
    "\n",
    "The treatment coefficient, 0.0010, indicates the variation in the response rate between the treatment group and the control group in blue states.\n",
    "\n",
    "The treatment is more effective in red states due to the larger treatment coefficient in red states."
   ]
  },
  {
   "cell_type": "markdown",
   "metadata": {},
   "source": [
    "## Question 2."
   ]
  },
  {
   "cell_type": "code",
   "execution_count": 27,
   "metadata": {},
   "outputs": [
    {
     "data": {
      "text/plain": [
       "0.002308"
      ]
     },
     "execution_count": 27,
     "metadata": {},
     "output_type": "execute_result"
    }
   ],
   "source": [
    "red_coef = model_red.params['treatment']\n",
    "red_inter = model_red.params['Intercept']\n",
    "blue_coef = model_blue.params['treatment']\n",
    "blue_inter = model_blue.params['Intercept']\n",
    "diff = round((red_coef + red_inter) - (blue_coef + blue_inter), \n",
    "             6)\n",
    "diff"
   ]
  },
  {
   "cell_type": "markdown",
   "metadata": {},
   "source": [
    "The treatment coefficients have causal interpretation in each of the two regressions, due to randomization in each group.\n",
    "\n",
    "The difference in the treatment effect between states does not necessarily have a causal interpretation states are not randomly assigned in real world."
   ]
  },
  {
   "cell_type": "markdown",
   "metadata": {},
   "source": [
    "# 4 Response rates and donation amount"
   ]
  },
  {
   "cell_type": "markdown",
   "metadata": {},
   "source": [
    "## Question 1."
   ]
  },
  {
   "cell_type": "code",
   "execution_count": 32,
   "metadata": {},
   "outputs": [
    {
     "name": "stdout",
     "output_type": "stream",
     "text": [
      "                            OLS Regression Results                            \n",
      "==============================================================================\n",
      "Dep. Variable:        donation_amount   R-squared:                       0.000\n",
      "Model:                            OLS   Adj. R-squared:                  0.000\n",
      "Method:                 Least Squares   F-statistic:                     3.461\n",
      "Date:                Thu, 25 Jan 2024   Prob (F-statistic):             0.0628\n",
      "Time:                        23:10:06   Log-Likelihood:            -1.7946e+05\n",
      "No. Observations:               50083   AIC:                         3.589e+05\n",
      "Df Residuals:                   50081   BIC:                         3.589e+05\n",
      "Df Model:                           1                                         \n",
      "Covariance Type:            nonrobust                                         \n",
      "==============================================================================\n",
      "                 coef    std err          t      P>|t|      [0.025      0.975]\n",
      "------------------------------------------------------------------------------\n",
      "Intercept      0.8133      0.067     12.063      0.000       0.681       0.945\n",
      "treatment      0.1536      0.083      1.861      0.063      -0.008       0.315\n",
      "==============================================================================\n",
      "Omnibus:                    96861.113   Durbin-Watson:                   1.987\n",
      "Prob(Omnibus):                  0.000   Jarque-Bera (JB):        240735713.630\n",
      "Skew:                          15.297   Prob(JB):                         0.00\n",
      "Kurtosis:                     341.269   Cond. No.                         3.23\n",
      "==============================================================================\n",
      "\n",
      "Notes:\n",
      "[1] Standard Errors assume that the covariance matrix of the errors is correctly specified.\n"
     ]
    }
   ],
   "source": [
    "import pandas as pd\n",
    "import statsmodels.api as sm\n",
    "import statsmodels.formula.api as smf\n",
    "\n",
    "df = pd.read_csv(\"charitable_giving.csv\")\n",
    "\n",
    "model = smf.ols(formula = 'donation_amount ~ treatment',\n",
    "               data = df).fit()\n",
    "print(model.summary())"
   ]
  },
  {
   "cell_type": "markdown",
   "metadata": {},
   "source": [
    "The intercept coefficient, 0.8133, indicates the donors in the control group donates 0.8133 dollars, on average.\n",
    "The treatment coefficient, 0.1536, indicates that donors in the treatement group donates 0.1536 dollars more than the control group, on average.\n",
    "\n",
    "\n",
    "This difference has a causal interpretation because the regression is based on the full sample where treatment is randomly assigned."
   ]
  },
  {
   "cell_type": "markdown",
   "metadata": {},
   "source": [
    "## Question 2."
   ]
  },
  {
   "cell_type": "code",
   "execution_count": 33,
   "metadata": {},
   "outputs": [
    {
     "name": "stdout",
     "output_type": "stream",
     "text": [
      "                            OLS Regression Results                            \n",
      "==============================================================================\n",
      "Dep. Variable:        donation_amount   R-squared:                       0.000\n",
      "Model:                            OLS   Adj. R-squared:                 -0.001\n",
      "Method:                 Least Squares   F-statistic:                    0.3374\n",
      "Date:                Thu, 25 Jan 2024   Prob (F-statistic):              0.561\n",
      "Time:                        23:11:11   Log-Likelihood:                -5326.8\n",
      "No. Observations:                1034   AIC:                         1.066e+04\n",
      "Df Residuals:                    1032   BIC:                         1.067e+04\n",
      "Df Model:                           1                                         \n",
      "Covariance Type:            nonrobust                                         \n",
      "==============================================================================\n",
      "                 coef    std err          t      P>|t|      [0.025      0.975]\n",
      "------------------------------------------------------------------------------\n",
      "Intercept     45.5403      2.423     18.792      0.000      40.785      50.296\n",
      "treatment     -1.6684      2.872     -0.581      0.561      -7.305       3.968\n",
      "==============================================================================\n",
      "Omnibus:                      587.258   Durbin-Watson:                   1.838\n",
      "Prob(Omnibus):                  0.000   Jarque-Bera (JB):             5623.279\n",
      "Skew:                           2.464   Prob(JB):                         0.00\n",
      "Kurtosis:                      13.307   Cond. No.                         3.49\n",
      "==============================================================================\n",
      "\n",
      "Notes:\n",
      "[1] Standard Errors assume that the covariance matrix of the errors is correctly specified.\n"
     ]
    }
   ],
   "source": [
    "import pandas as pd\n",
    "import statsmodels.api as sm\n",
    "import statsmodels.formula.api as smf\n",
    "\n",
    "df = pd.read_csv(\"charitable_giving.csv\")\n",
    "df_donate = df[df['donation_dummy'] == 1]\n",
    "\n",
    "model = smf.ols(formula = 'donation_amount ~ treatment',\n",
    "               data = df_donate).fit()\n",
    "print(model.summary())"
   ]
  },
  {
   "cell_type": "markdown",
   "metadata": {},
   "source": [
    "The intercept coefficient, 45.5403, indicates the donors in the control group donates 45.5403 dollars, on average.\n",
    "\n",
    "The treatment coefficient, -1.6684, indicates that donors in the treatement group donates 1.67 dollars less than the control group, on average.\n",
    "\n",
    "The treatment coefficient does not have a causal interpretation because treatment is not randomly assigned but decided by whether to donate."
   ]
  }
 ],
 "metadata": {
  "kernelspec": {
   "display_name": "Python 3 (ipykernel)",
   "language": "python",
   "name": "python3"
  },
  "language_info": {
   "codemirror_mode": {
    "name": "ipython",
    "version": 3
   },
   "file_extension": ".py",
   "mimetype": "text/x-python",
   "name": "python",
   "nbconvert_exporter": "python",
   "pygments_lexer": "ipython3",
   "version": "3.9.12"
  }
 },
 "nbformat": 4,
 "nbformat_minor": 2
}
