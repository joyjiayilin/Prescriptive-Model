{
 "cells": [
  {
   "cell_type": "markdown",
   "metadata": {},
   "source": [
    "# 1 Hospital admission & quality of service\n",
    "\n",
    "\n",
    "## Question 1 (a)"
   ]
  },
  {
   "cell_type": "code",
   "execution_count": 20,
   "metadata": {
    "scrolled": true
   },
   "outputs": [
    {
     "name": "stdout",
     "output_type": "stream",
     "text": [
      "                            OLS Regression Results                            \n",
      "==============================================================================\n",
      "Dep. Variable:     patient_died_dummy   R-squared:                       0.042\n",
      "Model:                            OLS   Adj. R-squared:                  0.042\n",
      "Method:                 Least Squares   F-statistic:                     119.3\n",
      "Date:                Sun, 04 Feb 2024   Prob (F-statistic):          1.75e-220\n",
      "Time:                        12:45:55   Log-Likelihood:                -7416.5\n",
      "No. Observations:               24480   AIC:                         1.485e+04\n",
      "Df Residuals:                   24470   BIC:                         1.493e+04\n",
      "Df Model:                           9                                         \n",
      "Covariance Type:            nonrobust                                         \n",
      "====================================================================================\n",
      "                       coef    std err          t      P>|t|      [0.025      0.975]\n",
      "------------------------------------------------------------------------------------\n",
      "Intercept            0.0970      0.006     16.355      0.000       0.085       0.109\n",
      "hospital_id[T.B]     0.0072      0.008      0.890      0.373      -0.009       0.023\n",
      "hospital_id[T.C]    -0.0483      0.010     -4.776      0.000      -0.068      -0.028\n",
      "hospital_id[T.D]     0.1882      0.008     23.188      0.000       0.172       0.204\n",
      "hospital_id[T.E]    -0.0531      0.011     -4.771      0.000      -0.075      -0.031\n",
      "hospital_id[T.F]     0.0003      0.009      0.030      0.976      -0.017       0.017\n",
      "hospital_id[T.G]     0.0441      0.008      5.273      0.000       0.028       0.061\n",
      "hospital_id[T.H]     0.0038      0.009      0.414      0.679      -0.014       0.022\n",
      "hospital_id[T.I]     0.0318      0.009      3.480      0.001       0.014       0.050\n",
      "hospital_id[T.J]     0.0112      0.011      1.028      0.304      -0.010       0.032\n",
      "==============================================================================\n",
      "Omnibus:                     9228.833   Durbin-Watson:                   2.025\n",
      "Prob(Omnibus):                  0.000   Jarque-Bera (JB):            25954.225\n",
      "Skew:                           2.096   Prob(JB):                         0.00\n",
      "Kurtosis:                       5.807   Cond. No.                         10.0\n",
      "==============================================================================\n",
      "\n",
      "Notes:\n",
      "[1] Standard Errors assume that the covariance matrix of the errors is correctly specified.\n"
     ]
    }
   ],
   "source": [
    "import pandas as pd\n",
    "import statsmodels.api as sm\n",
    "import statsmodels.formula.api as smf\n",
    "\n",
    "df1 = pd.read_csv(\"health_data.csv\")\n",
    "\n",
    "model1_1a = smf.ols(formula = 'patient_died_dummy ~ hospital_id',\n",
    "                   data = df1).fit()\n",
    "print(model1_1a.summary())"
   ]
  },
  {
   "cell_type": "markdown",
   "metadata": {},
   "source": [
    "The constant term indicates the predicted mortality rate at hospital A.\n",
    "The dummy for hospital D, of which positivity suggests the higher mortality rate at hospital D than at A, indicates the difference in mortality rates between the two hospitals. In other words, the mortality rate of hospital D is 0.1882 higher than that of hospital A."
   ]
  },
  {
   "cell_type": "markdown",
   "metadata": {},
   "source": [
    "## Question 1 (b)"
   ]
  },
  {
   "cell_type": "code",
   "execution_count": 21,
   "metadata": {},
   "outputs": [
    {
     "name": "stdout",
     "output_type": "stream",
     "text": [
      "The difference between the mortality rates at hospitals D and E is  0.24139049162000503 .\n"
     ]
    }
   ],
   "source": [
    "print('The difference between the mortality rates at hospitals D and E is ', model1_1a.params['hospital_id[T.D]'] - model1_1a.params['hospital_id[T.E]'], '.')"
   ]
  },
  {
   "cell_type": "markdown",
   "metadata": {},
   "source": [
    "## Causal interpretation\n",
    "## Question 2 (a)"
   ]
  },
  {
   "cell_type": "code",
   "execution_count": 24,
   "metadata": {},
   "outputs": [
    {
     "name": "stdout",
     "output_type": "stream",
     "text": [
      "                            OLS Regression Results                            \n",
      "==============================================================================\n",
      "Dep. Variable:     patient_died_dummy   R-squared:                       0.000\n",
      "Model:                            OLS   Adj. R-squared:                 -0.000\n",
      "Method:                 Least Squares   F-statistic:                    0.9377\n",
      "Date:                Sun, 04 Feb 2024   Prob (F-statistic):              0.333\n",
      "Time:                        12:48:56   Log-Likelihood:                -1446.8\n",
      "No. Observations:                6611   AIC:                             2898.\n",
      "Df Residuals:                    6609   BIC:                             2911.\n",
      "Df Model:                           1                                         \n",
      "Covariance Type:            nonrobust                                         \n",
      "====================================================================================\n",
      "                       coef    std err          t      P>|t|      [0.025      0.975]\n",
      "------------------------------------------------------------------------------------\n",
      "Intercept            0.0970      0.005     17.791      0.000       0.086       0.108\n",
      "hospital_id[T.B]     0.0072      0.007      0.968      0.333      -0.007       0.022\n",
      "==============================================================================\n",
      "Omnibus:                     3377.258   Durbin-Watson:                   2.031\n",
      "Prob(Omnibus):                  0.000   Jarque-Bera (JB):            14683.814\n",
      "Skew:                           2.650   Prob(JB):                         0.00\n",
      "Kurtosis:                       8.022   Cond. No.                         2.72\n",
      "==============================================================================\n",
      "\n",
      "Notes:\n",
      "[1] Standard Errors assume that the covariance matrix of the errors is correctly specified.\n"
     ]
    }
   ],
   "source": [
    "import pandas as pd\n",
    "import statsmodels.api as sm\n",
    "import statsmodels.formula.api as smf\n",
    "\n",
    "df1 = pd.read_csv(\"health_data.csv\")\n",
    "df1_ab = df1[df1['hospital_id'].isin(['A', 'B'])]\n",
    "\n",
    "model1_2a = smf.ols(formula = 'patient_died_dummy ~ hospital_id',\n",
    "                   data = df1_ab).fit()\n",
    "print(model1_2a.summary())"
   ]
  },
  {
   "cell_type": "markdown",
   "metadata": {},
   "source": [
    "The difference in mortality rate implied by this regression cannot be interpreted as the causal effect of visiting a different hospital (i.e., the change in risk of dying when moving a patient\n",
    "from hospital A to B cannot be inferred from this regression) because the p-value at 0.333 is too large for the coefficient to be significant. This indicates an insignificant correlation between the two variables, so we cannot conclude the causal effect. There would also be other confounders affecting the change in risk of dying when moving a patient from hospital A to B."
   ]
  },
  {
   "cell_type": "markdown",
   "metadata": {},
   "source": [
    "## Question 2 (b)"
   ]
  },
  {
   "cell_type": "markdown",
   "metadata": {},
   "source": [
    "I think difference in mortality between hospitals are under-estimated. Pregnant women go to hospitals that specialize in birth delivery, so the gender of the patiens is not randomly distributed across hospitals. This can be shown by the significance of coefficient of female_dummy with patient_died_dummy, as well as the significance of coefficients of both hospitals with female_dummy."
   ]
  },
  {
   "cell_type": "code",
   "execution_count": 25,
   "metadata": {},
   "outputs": [
    {
     "name": "stdout",
     "output_type": "stream",
     "text": [
      "                            OLS Regression Results                            \n",
      "==============================================================================\n",
      "Dep. Variable:     patient_died_dummy   R-squared:                       0.062\n",
      "Model:                            OLS   Adj. R-squared:                  0.061\n",
      "Method:                 Least Squares   F-statistic:                     434.0\n",
      "Date:                Sun, 04 Feb 2024   Prob (F-statistic):           2.08e-93\n",
      "Time:                        12:50:02   Log-Likelihood:                -1237.0\n",
      "No. Observations:                6611   AIC:                             2478.\n",
      "Df Residuals:                    6609   BIC:                             2492.\n",
      "Df Model:                           1                                         \n",
      "Covariance Type:            nonrobust                                         \n",
      "================================================================================\n",
      "                   coef    std err          t      P>|t|      [0.025      0.975]\n",
      "--------------------------------------------------------------------------------\n",
      "Intercept        0.0615      0.004     15.152      0.000       0.054       0.069\n",
      "female_dummy     0.1812      0.009     20.833      0.000       0.164       0.198\n",
      "==============================================================================\n",
      "Omnibus:                     3098.644   Durbin-Watson:                   2.038\n",
      "Prob(Omnibus):                  0.000   Jarque-Bera (JB):            12364.485\n",
      "Skew:                           2.423   Prob(JB):                         0.00\n",
      "Kurtosis:                       7.627   Cond. No.                         2.56\n",
      "==============================================================================\n",
      "\n",
      "Notes:\n",
      "[1] Standard Errors assume that the covariance matrix of the errors is correctly specified.\n"
     ]
    }
   ],
   "source": [
    "import pandas as pd\n",
    "import statsmodels.api as sm\n",
    "import statsmodels.formula.api as smf\n",
    "\n",
    "df1 = pd.read_csv(\"health_data.csv\")\n",
    "df1_ab = df1[df1['hospital_id'].isin(['A', 'B'])]\n",
    "\n",
    "model1_2b_1 = smf.ols(formula = 'patient_died_dummy ~ female_dummy',\n",
    "                   data = df1_ab).fit()\n",
    "print(model1_2b_1.summary())"
   ]
  },
  {
   "cell_type": "code",
   "execution_count": 26,
   "metadata": {},
   "outputs": [
    {
     "name": "stdout",
     "output_type": "stream",
     "text": [
      "                            OLS Regression Results                            \n",
      "==============================================================================\n",
      "Dep. Variable:           female_dummy   R-squared:                       0.001\n",
      "Model:                            OLS   Adj. R-squared:                  0.001\n",
      "Method:                 Least Squares   F-statistic:                     7.042\n",
      "Date:                Sun, 04 Feb 2024   Prob (F-statistic):            0.00798\n",
      "Time:                        12:50:04   Log-Likelihood:                -3523.8\n",
      "No. Observations:                6611   AIC:                             7052.\n",
      "Df Residuals:                    6609   BIC:                             7065.\n",
      "Df Model:                           1                                         \n",
      "Covariance Type:            nonrobust                                         \n",
      "====================================================================================\n",
      "                       coef    std err          t      P>|t|      [0.025      0.975]\n",
      "------------------------------------------------------------------------------------\n",
      "Intercept            0.2321      0.007     31.081      0.000       0.217       0.247\n",
      "hospital_id[T.B]    -0.0270      0.010     -2.654      0.008      -0.047      -0.007\n",
      "==============================================================================\n",
      "Omnibus:                     1227.084   Durbin-Watson:                   1.975\n",
      "Prob(Omnibus):                  0.000   Jarque-Bera (JB):             2063.999\n",
      "Skew:                           1.367   Prob(JB):                         0.00\n",
      "Kurtosis:                       2.876   Cond. No.                         2.72\n",
      "==============================================================================\n",
      "\n",
      "Notes:\n",
      "[1] Standard Errors assume that the covariance matrix of the errors is correctly specified.\n"
     ]
    }
   ],
   "source": [
    "import pandas as pd\n",
    "import statsmodels.api as sm\n",
    "import statsmodels.formula.api as smf\n",
    "\n",
    "df1 = pd.read_csv(\"health_data.csv\")\n",
    "df1_ab = df1[df1['hospital_id'].isin(['A', 'B'])]\n",
    "\n",
    "model1_2b_2 = smf.ols(formula = 'female_dummy ~ hospital_id',\n",
    "                   data = df1_ab).fit()\n",
    "print(model1_2b_2.summary())"
   ]
  },
  {
   "cell_type": "markdown",
   "metadata": {},
   "source": [
    "## Question 2 (c)"
   ]
  },
  {
   "cell_type": "markdown",
   "metadata": {},
   "source": [
    "Potential control variable that I might want to include in the regression, in order to obtain a causal estimate (or at least get closer to a causal estimate), is female_dummy. "
   ]
  },
  {
   "cell_type": "code",
   "execution_count": 27,
   "metadata": {},
   "outputs": [
    {
     "name": "stdout",
     "output_type": "stream",
     "text": [
      "                            OLS Regression Results                            \n",
      "==============================================================================\n",
      "Dep. Variable:     patient_died_dummy   R-squared:                       0.062\n",
      "Model:                            OLS   Adj. R-squared:                  0.062\n",
      "Method:                 Least Squares   F-statistic:                     218.5\n",
      "Date:                Sun, 04 Feb 2024   Prob (F-statistic):           1.33e-92\n",
      "Time:                        12:50:21   Log-Likelihood:                -1235.6\n",
      "No. Observations:                6611   AIC:                             2477.\n",
      "Df Residuals:                    6608   BIC:                             2498.\n",
      "Df Model:                           2                                         \n",
      "Covariance Type:            nonrobust                                         \n",
      "====================================================================================\n",
      "                       coef    std err          t      P>|t|      [0.025      0.975]\n",
      "------------------------------------------------------------------------------------\n",
      "Intercept            0.0549      0.006      9.700      0.000       0.044       0.066\n",
      "hospital_id[T.B]     0.0121      0.007      1.680      0.093      -0.002       0.026\n",
      "female_dummy         0.1817      0.009     20.879      0.000       0.165       0.199\n",
      "==============================================================================\n",
      "Omnibus:                     3081.814   Durbin-Watson:                   2.038\n",
      "Prob(Omnibus):                  0.000   Jarque-Bera (JB):            12186.994\n",
      "Skew:                           2.412   Prob(JB):                         0.00\n",
      "Kurtosis:                       7.580   Cond. No.                         3.08\n",
      "==============================================================================\n",
      "\n",
      "Notes:\n",
      "[1] Standard Errors assume that the covariance matrix of the errors is correctly specified.\n"
     ]
    }
   ],
   "source": [
    "import pandas as pd\n",
    "import statsmodels.api as sm\n",
    "import statsmodels.formula.api as smf\n",
    "\n",
    "df1 = pd.read_csv(\"health_data.csv\")\n",
    "df1_ab = df1[df1['hospital_id'].isin(['A', 'B'])]\n",
    "\n",
    "model1_2c_1 = smf.ols(formula = 'patient_died_dummy ~ hospital_id + female_dummy',\n",
    "                   data = df1_ab).fit()\n",
    "print(model1_2c_1.summary())"
   ]
  },
  {
   "cell_type": "markdown",
   "metadata": {},
   "source": [
    "The change in the coefficient on the hospital B dummy, from 0.0072 to 0.0121, is 0.0049. It indicates that when we look at the gender factor, the gap between mortality at hospital A and B becomes more noticeable.\n",
    "\n",
    "I included the specific set of variables because pregnancy will affect mortality and because the coefficient of female_dummy is significant. Inclusion of female_dummy will reduce omitted variable bias and get closer to a causal estimate.\n",
    "I have also considered including startage as another variable because too young or too old an age might increase risk of death due to child delivery, but the coefficient of startage is not significant."
   ]
  },
  {
   "cell_type": "code",
   "execution_count": 29,
   "metadata": {},
   "outputs": [
    {
     "name": "stdout",
     "output_type": "stream",
     "text": [
      "                            OLS Regression Results                            \n",
      "==============================================================================\n",
      "Dep. Variable:     patient_died_dummy   R-squared:                       0.000\n",
      "Model:                            OLS   Adj. R-squared:                 -0.000\n",
      "Method:                 Least Squares   F-statistic:                    0.1602\n",
      "Date:                Sun, 04 Feb 2024   Prob (F-statistic):              0.689\n",
      "Time:                        12:50:36   Log-Likelihood:                -1447.1\n",
      "No. Observations:                6611   AIC:                             2898.\n",
      "Df Residuals:                    6609   BIC:                             2912.\n",
      "Df Model:                           1                                         \n",
      "Covariance Type:            nonrobust                                         \n",
      "==============================================================================\n",
      "                 coef    std err          t      P>|t|      [0.025      0.975]\n",
      "------------------------------------------------------------------------------\n",
      "Intercept      0.1117      0.027      4.097      0.000       0.058       0.165\n",
      "startage      -0.0002      0.000     -0.400      0.689      -0.001       0.001\n",
      "==============================================================================\n",
      "Omnibus:                     3377.861   Durbin-Watson:                   2.031\n",
      "Prob(Omnibus):                  0.000   Jarque-Bera (JB):            14689.805\n",
      "Skew:                           2.650   Prob(JB):                         0.00\n",
      "Kurtosis:                       8.024   Cond. No.                         485.\n",
      "==============================================================================\n",
      "\n",
      "Notes:\n",
      "[1] Standard Errors assume that the covariance matrix of the errors is correctly specified.\n"
     ]
    }
   ],
   "source": [
    "import pandas as pd\n",
    "import statsmodels.api as sm\n",
    "import statsmodels.formula.api as smf\n",
    "\n",
    "df1 = pd.read_csv(\"health_data.csv\")\n",
    "df1_ab = df1[df1['hospital_id'].isin(['A', 'B'])]\n",
    "\n",
    "model2c_2 = smf.ols(formula = 'patient_died_dummy ~ startage',\n",
    "                   data = df1_ab).fit()\n",
    "print(model2c_2.summary())"
   ]
  },
  {
   "cell_type": "markdown",
   "metadata": {},
   "source": [
    "# 2 Demand estimation"
   ]
  },
  {
   "cell_type": "markdown",
   "metadata": {},
   "source": [
    "## Question 1."
   ]
  },
  {
   "cell_type": "code",
   "execution_count": 34,
   "metadata": {},
   "outputs": [
    {
     "name": "stdout",
     "output_type": "stream",
     "text": [
      "                            OLS Regression Results                            \n",
      "==============================================================================\n",
      "Dep. Variable:                  sales   R-squared:                       0.006\n",
      "Model:                            OLS   Adj. R-squared:                 -0.013\n",
      "Method:                 Least Squares   F-statistic:                    0.3250\n",
      "Date:                Sun, 04 Feb 2024   Prob (F-statistic):              0.571\n",
      "Time:                        12:54:44   Log-Likelihood:                -360.33\n",
      "No. Observations:                  52   AIC:                             724.7\n",
      "Df Residuals:                      50   BIC:                             728.6\n",
      "Df Model:                           1                                         \n",
      "Covariance Type:            nonrobust                                         \n",
      "==============================================================================\n",
      "                 coef    std err          t      P>|t|      [0.025      0.975]\n",
      "------------------------------------------------------------------------------\n",
      "Intercept   8983.8227    145.437     61.771      0.000    8691.704    9275.941\n",
      "price        -31.2310     54.782     -0.570      0.571    -141.264      78.802\n",
      "==============================================================================\n",
      "Omnibus:                        3.319   Durbin-Watson:                   1.572\n",
      "Prob(Omnibus):                  0.190   Jarque-Bera (JB):                2.367\n",
      "Skew:                           0.346   Prob(JB):                        0.306\n",
      "Kurtosis:                       3.784   Cond. No.                         12.5\n",
      "==============================================================================\n",
      "\n",
      "Notes:\n",
      "[1] Standard Errors assume that the covariance matrix of the errors is correctly specified.\n"
     ]
    }
   ],
   "source": [
    "import pandas as pd\n",
    "import statsmodels.api as sm\n",
    "import statsmodels.formula.api as smf\n",
    "\n",
    "df2 = pd.read_csv(\"demand_data.csv\")\n",
    "\n",
    "df2_v1 = df2[df2['vendor_id'] == 1]\n",
    "\n",
    "model2_1_1 = smf.ols(formula = 'sales ~ price',\n",
    "                   data = df2_v1).fit()\n",
    "print(model2_1_1.summary())"
   ]
  },
  {
   "cell_type": "code",
   "execution_count": 35,
   "metadata": {},
   "outputs": [
    {
     "name": "stdout",
     "output_type": "stream",
     "text": [
      "                            OLS Regression Results                            \n",
      "==============================================================================\n",
      "Dep. Variable:                  sales   R-squared:                       0.318\n",
      "Model:                            OLS   Adj. R-squared:                  0.290\n",
      "Method:                 Least Squares   F-statistic:                     11.42\n",
      "Date:                Sun, 04 Feb 2024   Prob (F-statistic):           8.49e-05\n",
      "Time:                        12:55:06   Log-Likelihood:                -350.56\n",
      "No. Observations:                  52   AIC:                             707.1\n",
      "Df Residuals:                      49   BIC:                             713.0\n",
      "Df Model:                           2                                         \n",
      "Covariance Type:            nonrobust                                         \n",
      "================================================================================\n",
      "                   coef    std err          t      P>|t|      [0.025      0.975]\n",
      "--------------------------------------------------------------------------------\n",
      "Intercept     9177.5500    128.432     71.458      0.000    8919.455    9435.644\n",
      "price         -141.1887     51.407     -2.746      0.008    -244.496     -37.882\n",
      "summer_dummy   358.5012     75.790      4.730      0.000     206.195     510.807\n",
      "==============================================================================\n",
      "Omnibus:                        0.027   Durbin-Watson:                   1.690\n",
      "Prob(Omnibus):                  0.986   Jarque-Bera (JB):                0.078\n",
      "Skew:                           0.039   Prob(JB):                        0.962\n",
      "Kurtosis:                       2.828   Cond. No.                         13.7\n",
      "==============================================================================\n",
      "\n",
      "Notes:\n",
      "[1] Standard Errors assume that the covariance matrix of the errors is correctly specified.\n"
     ]
    }
   ],
   "source": [
    "import pandas as pd\n",
    "import statsmodels.api as sm\n",
    "import statsmodels.formula.api as smf\n",
    "\n",
    "df2 = pd.read_csv(\"demand_data.csv\")\n",
    "\n",
    "df2_v1 = df2[df2['vendor_id'] == 1]\n",
    "\n",
    "model2_1_2 = smf.ols(formula = 'sales ~ price + summer_dummy',\n",
    "                   data = df2_v1).fit()\n",
    "print(model2_1_2.summary())"
   ]
  },
  {
   "cell_type": "code",
   "execution_count": 36,
   "metadata": {},
   "outputs": [
    {
     "name": "stdout",
     "output_type": "stream",
     "text": [
      "                            OLS Regression Results                            \n",
      "==============================================================================\n",
      "Dep. Variable:                  price   R-squared:                       0.204\n",
      "Model:                            OLS   Adj. R-squared:                  0.189\n",
      "Method:                 Least Squares   F-statistic:                     12.85\n",
      "Date:                Sun, 04 Feb 2024   Prob (F-statistic):           0.000764\n",
      "Time:                        12:58:40   Log-Likelihood:                -44.499\n",
      "No. Observations:                  52   AIC:                             93.00\n",
      "Df Residuals:                      50   BIC:                             96.90\n",
      "Df Model:                           1                                         \n",
      "Covariance Type:            nonrobust                                         \n",
      "================================================================================\n",
      "                   coef    std err          t      P>|t|      [0.025      0.975]\n",
      "--------------------------------------------------------------------------------\n",
      "Intercept        2.4103      0.093     25.922      0.000       2.223       2.597\n",
      "summer_dummy     0.6667      0.186      3.585      0.001       0.293       1.040\n",
      "==============================================================================\n",
      "Omnibus:                       14.939   Durbin-Watson:                   2.322\n",
      "Prob(Omnibus):                  0.001   Jarque-Bera (JB):                3.493\n",
      "Skew:                          -0.133   Prob(JB):                        0.174\n",
      "Kurtosis:                       1.758   Cond. No.                         2.48\n",
      "==============================================================================\n",
      "\n",
      "Notes:\n",
      "[1] Standard Errors assume that the covariance matrix of the errors is correctly specified.\n"
     ]
    }
   ],
   "source": [
    "import pandas as pd\n",
    "import statsmodels.api as sm\n",
    "import statsmodels.formula.api as smf\n",
    "\n",
    "df2 = pd.read_csv(\"demand_data.csv\")\n",
    "\n",
    "df2_v1 = df2[df2['vendor_id'] == 1]\n",
    "\n",
    "model2_1_3 = smf.ols(formula = 'price ~ summer_dummy',\n",
    "                   data = df2_v1).fit()\n",
    "print(model2_1_3.summary())"
   ]
  },
  {
   "cell_type": "markdown",
   "metadata": {},
   "source": [
    "The price coefficient changes when the summer dummy is also included in the regression because the correlation between price and summer_dummy is significant. Omitted variable bias are introduced when summer_dummy is not included, so the price coefficient changes."
   ]
  },
  {
   "cell_type": "markdown",
   "metadata": {},
   "source": [
    "## Question 2."
   ]
  },
  {
   "cell_type": "code",
   "execution_count": 37,
   "metadata": {},
   "outputs": [
    {
     "name": "stdout",
     "output_type": "stream",
     "text": [
      "                            OLS Regression Results                            \n",
      "==============================================================================\n",
      "Dep. Variable:                  sales   R-squared:                       0.133\n",
      "Model:                            OLS   Adj. R-squared:                  0.116\n",
      "Method:                 Least Squares   F-statistic:                     7.684\n",
      "Date:                Sun, 04 Feb 2024   Prob (F-statistic):            0.00781\n",
      "Time:                        12:59:09   Log-Likelihood:                -359.10\n",
      "No. Observations:                  52   AIC:                             722.2\n",
      "Df Residuals:                      50   BIC:                             726.1\n",
      "Df Model:                           1                                         \n",
      "Covariance Type:            nonrobust                                         \n",
      "==============================================================================\n",
      "                 coef    std err          t      P>|t|      [0.025      0.975]\n",
      "------------------------------------------------------------------------------\n",
      "Intercept   8411.1748    219.545     38.312      0.000    7970.205    8852.145\n",
      "price        218.6028     78.863      2.772      0.008      60.202     377.004\n",
      "==============================================================================\n",
      "Omnibus:                        1.154   Durbin-Watson:                   2.369\n",
      "Prob(Omnibus):                  0.562   Jarque-Bera (JB):                0.467\n",
      "Skew:                           0.114   Prob(JB):                        0.792\n",
      "Kurtosis:                       3.404   Cond. No.                         20.2\n",
      "==============================================================================\n",
      "\n",
      "Notes:\n",
      "[1] Standard Errors assume that the covariance matrix of the errors is correctly specified.\n"
     ]
    }
   ],
   "source": [
    "import pandas as pd\n",
    "import statsmodels.api as sm\n",
    "import statsmodels.formula.api as smf\n",
    "\n",
    "df2 = pd.read_csv(\"demand_data.csv\")\n",
    "\n",
    "df2_v2 = df2[df2['vendor_id'] == 2]\n",
    "\n",
    "model2_2_1 = smf.ols(formula = 'sales ~ price',\n",
    "                   data = df2_v2).fit()\n",
    "print(model2_2_1.summary())"
   ]
  },
  {
   "cell_type": "code",
   "execution_count": 38,
   "metadata": {},
   "outputs": [
    {
     "name": "stdout",
     "output_type": "stream",
     "text": [
      "                            OLS Regression Results                            \n",
      "==============================================================================\n",
      "Dep. Variable:                  sales   R-squared:                       0.133\n",
      "Model:                            OLS   Adj. R-squared:                  0.116\n",
      "Method:                 Least Squares   F-statistic:                     7.684\n",
      "Date:                Sun, 04 Feb 2024   Prob (F-statistic):            0.00781\n",
      "Time:                        12:59:31   Log-Likelihood:                -359.10\n",
      "No. Observations:                  52   AIC:                             722.2\n",
      "Df Residuals:                      50   BIC:                             726.1\n",
      "Df Model:                           1                                         \n",
      "Covariance Type:            nonrobust                                         \n",
      "================================================================================\n",
      "                   coef    std err          t      P>|t|      [0.025      0.975]\n",
      "--------------------------------------------------------------------------------\n",
      "Intercept     2105.3159     29.848     70.534      0.000    2045.364    2165.268\n",
      "price         2740.9463     10.951    250.283      0.000    2718.950    2762.943\n",
      "summer_dummy -2522.3436     75.986    -33.195      0.000   -2674.966   -2369.721\n",
      "==============================================================================\n",
      "Omnibus:                        1.154   Durbin-Watson:                   2.369\n",
      "Prob(Omnibus):                  0.562   Jarque-Bera (JB):                0.467\n",
      "Skew:                           0.114   Prob(JB):                        0.792\n",
      "Kurtosis:                       3.404   Cond. No.                     4.08e+16\n",
      "==============================================================================\n",
      "\n",
      "Notes:\n",
      "[1] Standard Errors assume that the covariance matrix of the errors is correctly specified.\n",
      "[2] The smallest eigenvalue is 2.75e-31. This might indicate that there are\n",
      "strong multicollinearity problems or that the design matrix is singular.\n"
     ]
    }
   ],
   "source": [
    "import pandas as pd\n",
    "import statsmodels.api as sm\n",
    "import statsmodels.formula.api as smf\n",
    "\n",
    "df2 = pd.read_csv(\"demand_data.csv\")\n",
    "\n",
    "df2_v2 = df2[df2['vendor_id'] == 2]\n",
    "\n",
    "model2_2_2 = smf.ols(formula = 'sales ~ price + summer_dummy',\n",
    "                   data = df2_v2).fit()\n",
    "print(model2_2_2.summary())"
   ]
  },
  {
   "cell_type": "code",
   "execution_count": 40,
   "metadata": {},
   "outputs": [
    {
     "name": "stdout",
     "output_type": "stream",
     "text": [
      "                            OLS Regression Results                            \n",
      "==============================================================================\n",
      "Dep. Variable:                  price   R-squared:                       1.000\n",
      "Model:                            OLS   Adj. R-squared:                  1.000\n",
      "Method:                 Least Squares   F-statistic:                       inf\n",
      "Date:                Sun, 04 Feb 2024   Prob (F-statistic):               0.00\n",
      "Time:                        13:15:24   Log-Likelihood:                    inf\n",
      "No. Observations:                  52   AIC:                              -inf\n",
      "Df Residuals:                      50   BIC:                              -inf\n",
      "Df Model:                           1                                         \n",
      "Covariance Type:            nonrobust                                         \n",
      "================================================================================\n",
      "                   coef    std err          t      P>|t|      [0.025      0.975]\n",
      "--------------------------------------------------------------------------------\n",
      "Intercept        2.5000          0        inf      0.000       2.500       2.500\n",
      "summer_dummy     1.0000          0        inf      0.000       1.000       1.000\n",
      "==============================================================================\n",
      "Omnibus:                      407.170   Durbin-Watson:                     nan\n",
      "Prob(Omnibus):                  0.000   Jarque-Bera (JB):               19.500\n",
      "Skew:                           0.000   Prob(JB):                     5.83e-05\n",
      "Kurtosis:                       0.000   Cond. No.                         2.48\n",
      "==============================================================================\n",
      "\n",
      "Notes:\n",
      "[1] Standard Errors assume that the covariance matrix of the errors is correctly specified.\n"
     ]
    },
    {
     "name": "stderr",
     "output_type": "stream",
     "text": [
      "/opt/anaconda3/lib/python3.9/site-packages/statsmodels/regression/linear_model.py:1825: RuntimeWarning: divide by zero encountered in double_scalars\n",
      "  return self.mse_model/self.mse_resid\n",
      "/opt/anaconda3/lib/python3.9/site-packages/statsmodels/regression/linear_model.py:924: RuntimeWarning: divide by zero encountered in log\n",
      "  llf = -nobs2*np.log(2*np.pi) - nobs2*np.log(ssr / nobs) - nobs2\n",
      "/opt/anaconda3/lib/python3.9/site-packages/statsmodels/stats/stattools.py:50: RuntimeWarning: invalid value encountered in double_scalars\n",
      "  dw = np.sum(diff_resids**2, axis=axis) / np.sum(resids**2, axis=axis)\n"
     ]
    }
   ],
   "source": [
    "import pandas as pd\n",
    "import statsmodels.api as sm\n",
    "import statsmodels.formula.api as smf\n",
    "\n",
    "df2 = pd.read_csv(\"demand_data.csv\")\n",
    "\n",
    "df2_v2 = df2[df2['vendor_id'] == 2]\n",
    "\n",
    "model2_2_3 = smf.ols(formula = 'price ~ summer_dummy',\n",
    "                   data = df2_v2).fit()\n",
    "print(model2_2_3.summary())"
   ]
  },
  {
   "cell_type": "markdown",
   "metadata": {},
   "source": [
    "In the case of the regression with the summer dummy, there might be multicollinearity problems possibly because price of ice cream is more highly correlated and even has a perfect linear relationship with season for vendor 2 (with a coefficient of 1.0) compared to vendor 1 (with a coefficient of 0.6667). This implies that vendor 2 systematically charged higher prices in summer."
   ]
  },
  {
   "cell_type": "markdown",
   "metadata": {},
   "source": [
    "## Question 3."
   ]
  },
  {
   "cell_type": "markdown",
   "metadata": {},
   "source": [
    "For the vendor who did not systematically charge higher or lower prices in summer, in the regression with the summer dummy, I expect the price coefficient estimate to be less precise because the summer dummy might introduce noise by taking seasonal variation into account. \n",
    "\n",
    "In the regression without the summer dummy, on the other hand, I expect the price coefficient estimate to be more precise because the model would estimate the average effect of price on sales without influences from seasonal variation."
   ]
  }
 ],
 "metadata": {
  "kernelspec": {
   "display_name": "Python 3 (ipykernel)",
   "language": "python",
   "name": "python3"
  },
  "language_info": {
   "codemirror_mode": {
    "name": "ipython",
    "version": 3
   },
   "file_extension": ".py",
   "mimetype": "text/x-python",
   "name": "python",
   "nbconvert_exporter": "python",
   "pygments_lexer": "ipython3",
   "version": "3.9.12"
  }
 },
 "nbformat": 4,
 "nbformat_minor": 2
}
